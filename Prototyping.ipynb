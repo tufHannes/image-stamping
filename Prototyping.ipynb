{
 "cells": [
  {
   "cell_type": "code",
   "execution_count": null,
   "id": "0636cd0d",
   "metadata": {},
   "outputs": [],
   "source": [
    "import numpy as np\n",
    "from PIL import Image, ImageFilter\n",
    "import time\n",
    "import numpy as np"
   ]
  },
  {
   "cell_type": "code",
   "execution_count": null,
   "id": "bcc0ab98",
   "metadata": {},
   "outputs": [],
   "source": [
    "eps = 0.1\n",
    "lr = 0.001\n",
    "alpha = 0.1"
   ]
  },
  {
   "cell_type": "code",
   "execution_count": null,
   "id": "836fa64c",
   "metadata": {},
   "outputs": [],
   "source": [
    "'''\n",
    "#just some little tests\n",
    "\n",
    "a = time.time()\n",
    "img = Image.open(\"imgs/IMG_0002.PNG\").convert(\"RGBA\")\n",
    "b = time.time()\n",
    "print(\"load and convert:\", b - a)\n",
    "a = time.time()\n",
    "img2 = Image.open(\"imgs/IMG_0042.jpg\").convert(\"RGBA\").resize((275,192)).rotate(-2, expand=1)\n",
    "b = time.time()\n",
    "print(\"load, convert, resize, rotate:\", b - a)\n",
    "\n",
    "a = time.time()\n",
    "img.paste(img2, (245,45), mask=img2)\n",
    "b = time.time()\n",
    "print(\"paste:\", b - a)\n",
    "\n",
    "a = time.time()\n",
    "img = img.filter(ImageFilter.GaussianBlur(5))\n",
    "b = time.time()\n",
    "print(\"blur:\", b - a)\n",
    "\n",
    "a = time.time()\n",
    "img = img.resize((275,192), resample=Image.Resampling.LANCZOS)\n",
    "b = time.time()\n",
    "print(\"lanczos:\", b - a)\n",
    "\n",
    "img.show()\n",
    "'''"
   ]
  },
  {
   "cell_type": "code",
   "execution_count": null,
   "id": "c512c8dd",
   "metadata": {},
   "outputs": [],
   "source": [
    "def mse(a, b):\n",
    "    a = np.array(a)\n",
    "    b = np.array(b)\n",
    "    return np.mean((a - b) ** 2)\n",
    "\n",
    "def stamper(goal, stamp, trans):\n",
    "    stamp = stamp.rotate(trans[2], expand=1)\n",
    "    goal.paste(stamp, (int(trans[0]), int(trans[1])), mask=stamp)\n",
    "    return goal\n",
    "\n",
    "def optimizer(goal, stamp):\n",
    "    goalSize = goal.size\n",
    "    bestTrans = np.zeros(3) #x, y, rot\n",
    "    for i in range(goal.size[0], -1, -1):\n",
    "        gradient = np.ones(3) * 100\n",
    "        momentum = np.zeros(3)\n",
    "        while (np.linalg.norm(gradient) > 0.1):\n",
    "            gt = goal.filter(ImageFilter.GaussianBlur(i))\n",
    "            current = stamper(goal, stamp, bestTrans).filter(ImageFilter.GaussianBlur(i))\n",
    "            fdx = stamper(goal, stamp, bestTrans + np.array([i * eps, 0, 0])).filter(ImageFilter.GaussianBlur(i))\n",
    "            fdy = stamper(goal, stamp, bestTrans + np.array([0, i * eps, 0])).filter(ImageFilter.GaussianBlur(i))\n",
    "            fdr = stamper(goal, stamp, bestTrans + np.array([0, 0, i * eps])).filter(ImageFilter.GaussianBlur(i))\n",
    "            \n",
    "            ecurrent = mse(gt, current)\n",
    "            ex = mse(gt, fdx) # punish positions outside of the image\n",
    "            ey = mse(gt, fdy)\n",
    "            er = mse(gt, fdy)\n",
    "            \n",
    "            gradient[0] = (ecurrent - ex) / eps\n",
    "            gradient[1] = (ecurrent - ey) / eps\n",
    "            gradient[2] = (ecurrent - er) / eps\n",
    "            \n",
    "            momentum = alpha * momentum - lr * gradient\n",
    "            bestTrans = bestTrans - lr * gradient + alpha * momentum\n",
    "            \n",
    "            print(i, ecurrent, gradient, bestTrans)\n",
    "            \n",
    "            #oh god, what now? How to do the scales?\n",
    "    return bestTrans"
   ]
  },
  {
   "cell_type": "code",
   "execution_count": null,
   "id": "9d622fcc",
   "metadata": {},
   "outputs": [],
   "source": [
    "a = Image.open(\"a.PNG\").convert(\"RGBA\")\n",
    "b = Image.open(\"a.PNG\").convert(\"RGBA\").rotate(180)\n",
    "optimizer(a, b)"
   ]
  },
  {
   "cell_type": "code",
   "execution_count": null,
   "id": "57dbb7c3",
   "metadata": {},
   "outputs": [],
   "source": []
  },
  {
   "cell_type": "code",
   "execution_count": null,
   "id": "a969a257",
   "metadata": {},
   "outputs": [],
   "source": []
  }
 ],
 "metadata": {
  "kernelspec": {
   "display_name": "Python 3 (ipykernel)",
   "language": "python",
   "name": "python3"
  },
  "language_info": {
   "codemirror_mode": {
    "name": "ipython",
    "version": 3
   },
   "file_extension": ".py",
   "mimetype": "text/x-python",
   "name": "python",
   "nbconvert_exporter": "python",
   "pygments_lexer": "ipython3",
   "version": "3.11.4"
  }
 },
 "nbformat": 4,
 "nbformat_minor": 5
}
