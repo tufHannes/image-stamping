{
 "cells": [
  {
   "cell_type": "code",
   "execution_count": null,
   "id": "0636cd0d",
   "metadata": {},
   "outputs": [],
   "source": [
    "import numpy as np\n",
    "import PIL\n",
    "import time"
   ]
  },
  {
   "cell_type": "code",
   "execution_count": null,
   "id": "836fa64c",
   "metadata": {},
   "outputs": [],
   "source": [
    "'''\n",
    "#just some little tests\n",
    "\n",
    "a = time.time()\n",
    "img = Image.open(\"imgs/IMG_0002.PNG\").convert(\"RGBA\")\n",
    "b = time.time()\n",
    "print(\"load and convert:\", b - a)\n",
    "a = time.time()\n",
    "img2 = Image.open(\"imgs/IMG_0042.jpg\").convert(\"RGBA\").resize((275,192)).rotate(-2, expand=1)\n",
    "b = time.time()\n",
    "print(\"load, convert, resize, rotate:\", b - a)\n",
    "\n",
    "a = time.time()\n",
    "img.paste(img2, (245,45), mask=img2)\n",
    "b = time.time()\n",
    "print(\"paste:\", b - a)\n",
    "\n",
    "a = time.time()\n",
    "img = img.filter(ImageFilter.GaussianBlur(5))\n",
    "b = time.time()\n",
    "print(\"blur:\", b - a)\n",
    "\n",
    "a = time.time()\n",
    "img = img.resize((275,192), resample=Image.Resampling.LANCZOS)\n",
    "b = time.time()\n",
    "print(\"lanczos:\", b - a)\n",
    "\n",
    "img.show()\n",
    "'''"
   ]
  },
  {
   "cell_type": "code",
   "execution_count": null,
   "id": "c512c8dd",
   "metadata": {},
   "outputs": [],
   "source": [
    "def mse(a, b):\n",
    "    a = np.array(a)\n",
    "    b = np.array(b)\n",
    "    return np.mean((a - b) ** 2)\n",
    "\n",
    "def optimizer(goal, stamp):\n",
    "    goalSize = goal.size\n",
    "    bestPos = goalSize / 2\n",
    "    bestRot = 0\n",
    "    absGradient = 100\n",
    "    while (absGradient > 0.1):\n",
    "        #oh god, what now? How to do the scales?\n",
    "    return bestPos, bestRot"
   ]
  }
 ],
 "metadata": {
  "kernelspec": {
   "display_name": "Python 3 (ipykernel)",
   "language": "python",
   "name": "python3"
  },
  "language_info": {
   "codemirror_mode": {
    "name": "ipython",
    "version": 3
   },
   "file_extension": ".py",
   "mimetype": "text/x-python",
   "name": "python",
   "nbconvert_exporter": "python",
   "pygments_lexer": "ipython3",
   "version": "3.11.4"
  }
 },
 "nbformat": 4,
 "nbformat_minor": 5
}
